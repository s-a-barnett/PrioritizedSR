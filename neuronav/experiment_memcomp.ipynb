{
 "cells": [
  {
   "cell_type": "markdown",
   "id": "1b139c1b",
   "metadata": {},
   "source": [
    "# Comparing Performance for Memory-Based SR Algs\n",
    "\n",
    "In this notebook, the agent is trained starting in random positions to navigate from the top-left to the bottom-right of an open field. The agent operates a softmax policy with $\\beta = 5$. At test time, the agent acts greedily according to its Q-function, computed as the product of its SR and its state-based reward weights learned at the training time. We compare the average episode run across a number of episodes.\n",
    "\n",
    "Three different training algorithms are used: SR-SARSA, SR-Dyna, and SR-PS. Each is trained with the same number of episodes, and SR-Dyna and SR-PS additionally use the same number of memory iterations. We also provide visualizations of which states were most frequently recalled for both SR-Dyna and SR-PS."
   ]
  },
  {
   "cell_type": "code",
   "execution_count": 1,
   "id": "182b73c5",
   "metadata": {
    "scrolled": false
   },
   "outputs": [],
   "source": [
    "import numpy as np\n",
    "import numpy.random as npr\n",
    "from gridworld import SimpleGrid\n",
    "from algs import TDSR\n",
    "import progressbar\n",
    "from plotting import *\n",
    "import matplotlib.pyplot as plt\n",
    "import matplotlib as mpl\n",
    "from utils import exp_normalize, memory_update, get_dyna_indices, get_predecessors, queue_append\n",
    "\n",
    "npr.seed(0)"
   ]
  },
  {
   "cell_type": "code",
   "execution_count": 2,
   "id": "7a061835",
   "metadata": {},
   "outputs": [],
   "source": [
    "grid_size = 7\n",
    "pattern=\"empty\" # \"empty\" or \"four_rooms\" or \"random\"\n",
    "env = SimpleGrid(grid_size, block_pattern=pattern, obs_mode=\"index\")"
   ]
  },
  {
   "cell_type": "code",
   "execution_count": 3,
   "id": "483c558e",
   "metadata": {},
   "outputs": [],
   "source": [
    "# env episode params\n",
    "episode_length = (4 * grid_size)\n",
    "episodes_train = 50\n",
    "episodes_test  = 10\n",
    "agent_pos = [0, 0]\n",
    "goal_pos = [grid_size -1, grid_size -1]\n",
    "\n",
    "# all agent params\n",
    "gamma = 0.99\n",
    "lr = 1e-1 # learning rate across all incremental algs\n",
    "poltype = 'softmax' # \"egreedy\" or \"softmax\"\n",
    "epsilon = 1 # for epsilon-greedy policies\n",
    "beta = 5 # inverse temperature for softmax policies\n",
    "\n",
    "# memory params\n",
    "n_mem = 6 # number of retrieved memories per timestep\n",
    "theta = 5e-1 # priority threshold for prioritized sweeping"
   ]
  },
  {
   "cell_type": "markdown",
   "id": "384bde0a",
   "metadata": {},
   "source": [
    "## Training Phase"
   ]
  },
  {
   "cell_type": "markdown",
   "id": "bef44de3",
   "metadata": {},
   "source": [
    "### No Memory"
   ]
  },
  {
   "cell_type": "code",
   "execution_count": 4,
   "id": "8ebee842",
   "metadata": {},
   "outputs": [
    {
     "name": "stderr",
     "output_type": "stream",
     "text": [
      "100% (50 of 50) |########################| Elapsed Time: 0:00:00 Time:  0:00:00\n"
     ]
    }
   ],
   "source": [
    "agent_nomem = TDSR(env.state_size, env.action_size, lr, gamma, poltype=poltype)\n",
    "experiences = []\n",
    "errors = []\n",
    "\n",
    "for i in progressbar.progressbar(range(episodes_train)):\n",
    "    \n",
    "    env.reset(goal_pos=goal_pos)\n",
    "    state = env.observation\n",
    "\n",
    "    for j in range(episode_length):\n",
    "        action = agent_nomem.sample_action(state, epsilon=epsilon, beta=beta)\n",
    "        reward = env.step(action)\n",
    "        state_next = env.observation\n",
    "        done = env.done\n",
    "        experiences.append([state, action, state_next, reward, done])        \n",
    "        state = state_next\n",
    "        \n",
    "        if (j > 1):\n",
    "            td_sr = agent_nomem.update_sr(experiences[-2], experiences[-1])\n",
    "            errors.append(np.linalg.norm(td_sr))\n",
    "            td_w = agent_nomem.update_w(experiences[-1])\n",
    "                         \n",
    "        if env.done:\n",
    "            td_sr = agent_nomem.update_sr(experiences[-1], experiences[-1])\n",
    "            errors.append(np.linalg.norm(td_sr))\n",
    "                        \n",
    "        if env.done:\n",
    "            break"
   ]
  },
  {
   "cell_type": "markdown",
   "id": "26316d15",
   "metadata": {},
   "source": [
    "### Dyna"
   ]
  },
  {
   "cell_type": "code",
   "execution_count": 5,
   "id": "e33592ee",
   "metadata": {},
   "outputs": [
    {
     "name": "stderr",
     "output_type": "stream",
     "text": [
      "100% (50 of 50) |########################| Elapsed Time: 0:00:00 Time:  0:00:00\n"
     ]
    }
   ],
   "source": [
    "agent_dyna = TDSR(env.state_size, env.action_size, lr, gamma, poltype=poltype)\n",
    "experiences = []\n",
    "exp_weights = []\n",
    "errors = []\n",
    "prioritized_states = np.zeros(env.state_size)\n",
    "\n",
    "for i in progressbar.progressbar(range(episodes_train)):\n",
    "    \n",
    "    env.reset(goal_pos=goal_pos)\n",
    "    state = env.observation\n",
    "\n",
    "    for j in range(episode_length):\n",
    "        action = agent_dyna.sample_action(state, epsilon=epsilon, beta=beta)\n",
    "        reward = env.step(action)\n",
    "        state_next = env.observation\n",
    "        done = env.done\n",
    "        experiences.append([state, action, state_next, reward, done])        \n",
    "        state = state_next\n",
    "        \n",
    "        if (j > 1):\n",
    "            td_sr = agent_dyna.update_sr(experiences[-2], experiences[-1])\n",
    "            errors.append(np.linalg.norm(td_sr))\n",
    "            td_w = agent_dyna.update_w(experiences[-1])\n",
    "                         \n",
    "        if env.done:\n",
    "            td_sr = agent_dyna.update_sr(experiences[-1], experiences[-1])\n",
    "            errors.append(np.linalg.norm(td_sr))\n",
    "            \n",
    "        exp_weights.append(len(experiences))\n",
    "        mem_indices = get_dyna_indices(experiences, exp_weights, n_mem)\n",
    "        mem = [experiences[t] for t in mem_indices]\n",
    "        for exp in mem:\n",
    "            prioritized_states[exp[0]] += 1\n",
    "            td_sr = memory_update(exp, agent_dyna, epsilon, beta)\n",
    "            grad = agent_dyna.update_eigs(exp)\n",
    "                        \n",
    "        if env.done:\n",
    "            break"
   ]
  },
  {
   "cell_type": "markdown",
   "id": "153b7533",
   "metadata": {},
   "source": [
    "### Visualize Prioritized States"
   ]
  },
  {
   "cell_type": "code",
   "execution_count": 6,
   "id": "da6b9f48",
   "metadata": {
    "scrolled": true
   },
   "outputs": [
    {
     "data": {
      "image/png": "[encoded data removed]",
      "text/plain": [
       "<Figure size 432x288 with 1 Axes>"
      ]
     },
     "metadata": {
      "needs_background": "light"
     },
     "output_type": "display_data"
    }
   ],
   "source": [
    "cmap = copy.copy(mpl.cm.get_cmap(\"viridis\"))\n",
    "cmap.set_bad(color=\"white\")\n",
    "plt.imshow(utils.mask_grid(prioritized_states.reshape(grid_size, grid_size), env.blocks), cmap=cmap);\n",
    "plt.title('Prioritized States: SR-Dyna');"
   ]
  },
  {
   "cell_type": "markdown",
   "id": "d4bff3fd",
   "metadata": {},
   "source": [
    "### Prioritized Sweeping"
   ]
  },
  {
   "cell_type": "code",
   "execution_count": 7,
   "id": "30f05e20",
   "metadata": {},
   "outputs": [
    {
     "name": "stderr",
     "output_type": "stream",
     "text": [
      "100% (50 of 50) |########################| Elapsed Time: 0:00:13 Time:  0:00:13\n"
     ]
    }
   ],
   "source": [
    "agent_ps = TDSR(env.state_size, env.action_size, lr, gamma, poltype=poltype)\n",
    "experiences = []\n",
    "pqueue = []\n",
    "errors = []\n",
    "prioritized_states = np.zeros(env.state_size)\n",
    "\n",
    "for i in progressbar.progressbar(range(episodes_train)):\n",
    "    \n",
    "    env.reset(goal_pos=goal_pos)\n",
    "    state = env.observation\n",
    "\n",
    "    for j in range(episode_length):\n",
    "        action = agent_ps.sample_action(state, epsilon=epsilon, beta=beta)\n",
    "        reward = env.step(action)\n",
    "        state_next = env.observation\n",
    "        done = env.done\n",
    "        experiences.append([state, action, state_next, reward, done])        \n",
    "        state = state_next\n",
    "        \n",
    "        if (j > 1):\n",
    "            td_sr = agent_ps.update_sr(experiences[-2], experiences[-1])\n",
    "            errors.append(np.linalg.norm(td_sr))\n",
    "            if (np.linalg.norm(td_sr) > theta):\n",
    "                pqueue = queue_append(experiences[-2], np.linalg.norm(td_sr), pqueue)\n",
    "            td_w = agent_ps.update_w(experiences[-1])\n",
    "                         \n",
    "        if env.done:\n",
    "            td_sr = agent_ps.update_sr(experiences[-1], experiences[-1])\n",
    "            errors.append(np.linalg.norm(td_sr))\n",
    "            if (np.linalg.norm(td_sr) > theta):\n",
    "                pqueue = queue_append(experiences[-1], np.linalg.norm(td_sr), pqueue)\n",
    "            \n",
    "        for k in range(n_mem):\n",
    "            \n",
    "#             pqueue = pqueue[-100:]\n",
    "\n",
    "            if not pqueue:\n",
    "                break\n",
    "\n",
    "            # get highest priority item and remove\n",
    "            pqueue = sorted(pqueue, key = lambda item: item[\"priority\"])\n",
    "            exp = pqueue.pop()[\"exp\"]\n",
    "            \n",
    "            prioritized_states[exp[0]] += 1\n",
    "\n",
    "            td_sr = memory_update(exp, agent_ps, epsilon, beta)                \n",
    "            grad = agent_ps.update_eigs(exp)\n",
    "\n",
    "            for exp_pred in get_predecessors(exp[0], experiences):\n",
    "                td_sr = memory_update(exp_pred, agent_ps, epsilon, beta)                    \n",
    "                if (np.linalg.norm(td_sr) > theta):\n",
    "                    pqueue = queue_append(exp_pred, np.linalg.norm(td_sr), pqueue)\n",
    "                        \n",
    "        if env.done:\n",
    "            break"
   ]
  },
  {
   "cell_type": "markdown",
   "id": "03baf47d",
   "metadata": {},
   "source": [
    "### Visualize Prioritized States"
   ]
  },
  {
   "cell_type": "code",
   "execution_count": 8,
   "id": "19134a71",
   "metadata": {},
   "outputs": [
    {
     "data": {
      "image/png": "[encoded data removed]",
      "text/plain": [
       "<Figure size 432x288 with 1 Axes>"
      ]
     },
     "metadata": {
      "needs_background": "light"
     },
     "output_type": "display_data"
    }
   ],
   "source": [
    "cmap = copy.copy(mpl.cm.get_cmap(\"viridis\"))\n",
    "cmap.set_bad(color=\"white\")\n",
    "plt.imshow(utils.mask_grid(prioritized_states.reshape(grid_size, grid_size), env.blocks), cmap=cmap);\n",
    "plt.title('Prioritized States: SR-PS');"
   ]
  },
  {
   "cell_type": "markdown",
   "id": "4d87721b",
   "metadata": {},
   "source": [
    "## Test Phase"
   ]
  },
  {
   "cell_type": "code",
   "execution_count": 9,
   "id": "29cdb93b",
   "metadata": {},
   "outputs": [],
   "source": [
    "# set agents to act according to their learned Q-functions\n",
    "for agent in [agent_nomem, agent_dyna, agent_ps]:\n",
    "    agent.poltype = 'egreedy'\n",
    "\n",
    "epsilon = 0."
   ]
  },
  {
   "cell_type": "code",
   "execution_count": 10,
   "id": "30b39a31",
   "metadata": {},
   "outputs": [
    {
     "name": "stderr",
     "output_type": "stream",
     "text": [
      "100% (10 of 10) |########################| Elapsed Time: 0:00:00 Time:  0:00:00\n"
     ]
    }
   ],
   "source": [
    "ep_lengths = []\n",
    "errors = []\n",
    "\n",
    "for i in progressbar.progressbar(range(episodes_test)):\n",
    "    \n",
    "    experiences = []\n",
    "    env.reset(agent_pos=agent_pos, goal_pos=goal_pos)\n",
    "    state = env.observation\n",
    "\n",
    "    for j in range(episode_length):\n",
    "        action = agent_nomem.sample_action(state, epsilon=epsilon, beta=beta)\n",
    "        reward = env.step(action)\n",
    "        state_next = env.observation\n",
    "        done = env.done\n",
    "        experiences.append([state, action, state_next, reward, done])        \n",
    "        state = state_next\n",
    "                        \n",
    "        if env.done:\n",
    "            break\n",
    "            \n",
    "    ep_lengths.append(len(experiences))\n",
    "            \n",
    "av_ep_length_nomem = np.mean(ep_lengths)"
   ]
  },
  {
   "cell_type": "code",
   "execution_count": 11,
   "id": "b6d468c2",
   "metadata": {},
   "outputs": [
    {
     "name": "stderr",
     "output_type": "stream",
     "text": [
      "100% (10 of 10) |########################| Elapsed Time: 0:00:00 Time:  0:00:00\n"
     ]
    }
   ],
   "source": [
    "ep_lengths = []\n",
    "errors = []\n",
    "\n",
    "for i in progressbar.progressbar(range(episodes_test)):\n",
    "    \n",
    "    experiences = []\n",
    "    env.reset(agent_pos=agent_pos, goal_pos=goal_pos)\n",
    "    state = env.observation\n",
    "\n",
    "    for j in range(episode_length):\n",
    "        action = agent_dyna.sample_action(state, epsilon=epsilon, beta=beta)\n",
    "        reward = env.step(action)\n",
    "        state_next = env.observation\n",
    "        done = env.done\n",
    "        experiences.append([state, action, state_next, reward, done])        \n",
    "        state = state_next\n",
    "                        \n",
    "        if env.done:\n",
    "            break\n",
    "        \n",
    "    ep_lengths.append(len(experiences))\n",
    "            \n",
    "av_ep_length_dyna = np.mean(ep_lengths)"
   ]
  },
  {
   "cell_type": "code",
   "execution_count": 12,
   "id": "0e21516b",
   "metadata": {},
   "outputs": [
    {
     "name": "stderr",
     "output_type": "stream",
     "text": [
      "100% (10 of 10) |########################| Elapsed Time: 0:00:00 Time:  0:00:00\n"
     ]
    }
   ],
   "source": [
    "ep_lengths = []\n",
    "errors = []\n",
    "\n",
    "for i in progressbar.progressbar(range(episodes_test)):\n",
    "    \n",
    "    experiences = []\n",
    "    env.reset(agent_pos=agent_pos, goal_pos=goal_pos)\n",
    "    state = env.observation\n",
    "\n",
    "    for j in range(episode_length):\n",
    "        action = agent_ps.sample_action(state, epsilon=epsilon, beta=beta)\n",
    "        reward = env.step(action)\n",
    "        state_next = env.observation\n",
    "        done = env.done\n",
    "        experiences.append([state, action, state_next, reward, done])        \n",
    "        state = state_next\n",
    "                        \n",
    "        if env.done:\n",
    "            break\n",
    "            \n",
    "    ep_lengths.append(len(experiences))\n",
    "            \n",
    "av_ep_length_ps = np.mean(ep_lengths)"
   ]
  },
  {
   "cell_type": "code",
   "execution_count": 13,
   "id": "cd3b324f",
   "metadata": {},
   "outputs": [
    {
     "data": {
      "image/png": "[encoded data removed]",
      "text/plain": [
       "<Figure size 432x288 with 1 Axes>"
      ]
     },
     "metadata": {
      "needs_background": "light"
     },
     "output_type": "display_data"
    }
   ],
   "source": [
    "color = ['red', 'green', 'blue', 'yellow']\n",
    "plt.bar(['nomem', 'dyna', 'ps', 'optimal'], [av_ep_length_nomem, av_ep_length_dyna, av_ep_length_ps, 2 * (grid_size - 1)], color=color);\n",
    "plt.title(f'grid_size = {grid_size}, num_training = {episodes_train}, num_mem = {n_mem}');\n",
    "plt.ylabel('average episode length');"
   ]
  },
  {
   "cell_type": "code",
   "execution_count": null,
   "id": "e3320a0b",
   "metadata": {},
   "outputs": [],
   "source": []
  }
 ],
 "metadata": {
  "kernelspec": {
   "display_name": "Python 3",
   "language": "python",
   "name": "python3"
  },
  "language_info": {
   "codemirror_mode": {
    "name": "ipython",
    "version": 3
   },
   "file_extension": ".py",
   "mimetype": "text/x-python",
   "name": "python",
   "nbconvert_exporter": "python",
   "pygments_lexer": "ipython3",
   "version": "3.8.8"
  }
 },
 "nbformat": 4,
 "nbformat_minor": 5
}
